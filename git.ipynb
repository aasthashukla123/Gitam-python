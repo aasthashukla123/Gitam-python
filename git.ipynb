{
 "cells": [
  {
   "cell_type": "code",
   "execution_count": 1,
   "metadata": {},
   "outputs": [
    {
     "name": "stdout",
     "output_type": "stream",
     "text": [
      "1-10                 examples.desktop                  square.c\r\n",
      "1-10.cpp             file1.txt                         student1.c\r\n",
      "1.cpp                file2.txt                         student2.c\r\n",
      "aastha7.ipynb        \u001b[0m\u001b[01;34mMusic\u001b[0m/                            student.java\r\n",
      "Aastha Shukla.ipynb  n.c                               sum1to10.cpp\r\n",
      "\u001b[01;34manaconda3\u001b[0m/           number.c                          sum.c\r\n",
      "\u001b[01;32ma.out\u001b[0m*               op.c                              \u001b[01;34mTemplates\u001b[0m/\r\n",
      "calculator.c         \u001b[01;34mPictures\u001b[0m/                         Untitled1.ipynb\r\n",
      "circle.c             \u001b[01;34mproblem solving and programming\u001b[0m/  Untitled2.ipynb\r\n",
      "\u001b[01;34mcs8\u001b[0m/                 \u001b[01;34mPublic\u001b[0m/                           Untitled3.ipynb\r\n",
      "\u001b[01;34mcs9@12\u001b[0m/              python02.ipynb                    Untitled4.ipynb\r\n",
      "\u001b[01;34mDesktop\u001b[0m/             python1.ipynb                     Untitled5.ipynb\r\n",
      "\u001b[01;34mDocuments\u001b[0m/           python2.ipynb                     Untitled6.ipynb\r\n",
      "\u001b[01;34mDownloads\u001b[0m/           rec.c                             Untitled.ipynb\r\n",
      "even.c               shukla7.ipynb                     \u001b[01;34mVideos\u001b[0m/\r\n"
     ]
    }
   ],
   "source": [
    "ls"
   ]
  },
  {
   "cell_type": "code",
   "execution_count": 2,
   "metadata": {},
   "outputs": [
    {
     "name": "stdout",
     "output_type": "stream",
     "text": [
      "/home/student/anaconda3\n"
     ]
    }
   ],
   "source": [
    "cd anaconda3"
   ]
  },
  {
   "cell_type": "code",
   "execution_count": 3,
   "metadata": {},
   "outputs": [
    {
     "name": "stdout",
     "output_type": "stream",
     "text": [
      "\u001b[0m\u001b[01;34mbin\u001b[0m/              \u001b[01;34minclude\u001b[0m/      \u001b[01;34mpkgs\u001b[0m/       \u001b[01;34mssl\u001b[0m/\r\n",
      "\u001b[01;34mcompiler_compat\u001b[0m/  \u001b[01;34mlib\u001b[0m/          \u001b[01;34mplugins\u001b[0m/    \u001b[01;34mtranslations\u001b[0m/\r\n",
      "\u001b[01;34mcondabin\u001b[0m/         \u001b[01;34mlibexec\u001b[0m/      \u001b[01;34mqml\u001b[0m/        Untitled.ipynb\r\n",
      "\u001b[01;34mconda-meta\u001b[0m/       LICENSE.txt   \u001b[01;34mresources\u001b[0m/  \u001b[01;34mvar\u001b[0m/\r\n",
      "\u001b[01;34mdoc\u001b[0m/              \u001b[01;34mman\u001b[0m/          \u001b[01;34msbin\u001b[0m/       \u001b[01;34mx86_64-conda_cos6-linux-gnu\u001b[0m/\r\n",
      "\u001b[01;34menvs\u001b[0m/             \u001b[01;34mmkspecs\u001b[0m/      \u001b[01;34mshare\u001b[0m/\r\n",
      "\u001b[01;34metc\u001b[0m/              \u001b[01;34mphrasebooks\u001b[0m/  \u001b[01;34mshell\u001b[0m/\r\n"
     ]
    }
   ],
   "source": [
    "ls"
   ]
  },
  {
   "cell_type": "code",
   "execution_count": 4,
   "metadata": {},
   "outputs": [
    {
     "name": "stdout",
     "output_type": "stream",
     "text": [
      "/home/student\n"
     ]
    }
   ],
   "source": [
    "cd .."
   ]
  },
  {
   "cell_type": "code",
   "execution_count": 5,
   "metadata": {},
   "outputs": [
    {
     "data": {
      "text/plain": [
       "['libexec',\n",
       " 'resources',\n",
       " 'qml',\n",
       " 'LICENSE.txt',\n",
       " 'man',\n",
       " 'conda-meta',\n",
       " 'Untitled.ipynb',\n",
       " 'sbin',\n",
       " 'include',\n",
       " 'share',\n",
       " 'pkgs',\n",
       " 'phrasebooks',\n",
       " 'x86_64-conda_cos6-linux-gnu',\n",
       " 'translations',\n",
       " 'plugins',\n",
       " 'envs',\n",
       " 'lib',\n",
       " 'mkspecs',\n",
       " 'ssl',\n",
       " 'bin',\n",
       " '.ipynb_checkpoints',\n",
       " 'condabin',\n",
       " 'shell',\n",
       " 'etc',\n",
       " 'doc',\n",
       " 'compiler_compat',\n",
       " 'var']"
      ]
     },
     "execution_count": 5,
     "metadata": {},
     "output_type": "execute_result"
    }
   ],
   "source": [
    "import os\n",
    "os.listdir('anaconda3')"
   ]
  },
  {
   "cell_type": "code",
   "execution_count": 7,
   "metadata": {},
   "outputs": [
    {
     "name": "stdout",
     "output_type": "stream",
     "text": [
      "<DirEntry 'libexec'>\n",
      "<DirEntry 'resources'>\n",
      "<DirEntry 'qml'>\n",
      "<DirEntry 'LICENSE.txt'>\n",
      "<DirEntry 'man'>\n",
      "<DirEntry 'conda-meta'>\n",
      "<DirEntry 'Untitled.ipynb'>\n",
      "<DirEntry 'sbin'>\n",
      "<DirEntry 'include'>\n",
      "<DirEntry 'share'>\n",
      "<DirEntry 'pkgs'>\n",
      "<DirEntry 'phrasebooks'>\n",
      "<DirEntry 'x86_64-conda_cos6-linux-gnu'>\n",
      "<DirEntry 'translations'>\n",
      "<DirEntry 'plugins'>\n",
      "<DirEntry 'envs'>\n",
      "<DirEntry 'lib'>\n",
      "<DirEntry 'mkspecs'>\n",
      "<DirEntry 'ssl'>\n",
      "<DirEntry 'bin'>\n",
      "<DirEntry '.ipynb_checkpoints'>\n",
      "<DirEntry 'condabin'>\n",
      "<DirEntry 'shell'>\n",
      "<DirEntry 'etc'>\n",
      "<DirEntry 'doc'>\n",
      "<DirEntry 'compiler_compat'>\n",
      "<DirEntry 'var'>\n"
     ]
    }
   ],
   "source": [
    "li=os.scandir('anaconda3')\n",
    "for i in li:\n",
    "    print(i)"
   ]
  },
  {
   "cell_type": "code",
   "execution_count": 9,
   "metadata": {},
   "outputs": [
    {
     "name": "stdout",
     "output_type": "stream",
     "text": [
      "libexec\n",
      "resources\n",
      "qml\n",
      "LICENSE.txt\n",
      "man\n",
      "conda-meta\n",
      "Untitled.ipynb\n",
      "sbin\n",
      "include\n",
      "share\n",
      "pkgs\n",
      "phrasebooks\n",
      "x86_64-conda_cos6-linux-gnu\n",
      "translations\n",
      "plugins\n",
      "envs\n",
      "lib\n",
      "mkspecs\n",
      "ssl\n",
      "bin\n",
      ".ipynb_checkpoints\n",
      "condabin\n",
      "shell\n",
      "etc\n",
      "doc\n",
      "compiler_compat\n",
      "var\n"
     ]
    }
   ],
   "source": [
    "from pathlib import Path\n",
    "li=Path('anaconda3')\n",
    "for i in li.iterdir():\n",
    "    print(i.name)"
   ]
  },
  {
   "cell_type": "code",
   "execution_count": 11,
   "metadata": {},
   "outputs": [
    {
     "name": "stdout",
     "output_type": "stream",
     "text": [
      "LICENSE.txt\n",
      "Untitled.ipynb\n"
     ]
    }
   ],
   "source": [
    "import os\n",
    "dirpath =\"anaconda3\"  # listing all files in dir\n",
    "for i in os.listdir(dirpath):\n",
    "    if os.path.isfile(os.path.join(dirpath,i)):\n",
    "        print(i)"
   ]
  },
  {
   "cell_type": "code",
   "execution_count": 12,
   "metadata": {},
   "outputs": [
    {
     "data": {
      "text/plain": [
       "'/home/student'"
      ]
     },
     "execution_count": 12,
     "metadata": {},
     "output_type": "execute_result"
    }
   ],
   "source": [
    "pwd"
   ]
  },
  {
   "cell_type": "code",
   "execution_count": 14,
   "metadata": {},
   "outputs": [
    {
     "name": "stdout",
     "output_type": "stream",
     "text": [
      "libexec\n",
      "resources\n",
      "qml\n",
      "man\n",
      "conda-meta\n",
      "sbin\n",
      "include\n",
      "share\n",
      "pkgs\n",
      "phrasebooks\n",
      "x86_64-conda_cos6-linux-gnu\n",
      "translations\n",
      "plugins\n",
      "envs\n",
      "lib\n",
      "mkspecs\n",
      "ssl\n",
      "bin\n",
      ".ipynb_checkpoints\n",
      "condabin\n",
      "shell\n",
      "etc\n",
      "doc\n",
      "compiler_compat\n",
      "var\n"
     ]
    }
   ],
   "source": [
    "dirpath ='anaconda3'\n",
    "with os.scandir(dirpath) as f:\n",
    "    for i in f:\n",
    "        if i.is_dir():\n",
    "            print(i.name)"
   ]
  },
  {
   "cell_type": "markdown",
   "metadata": {},
   "source": [
    "## creating single directory"
   ]
  },
  {
   "cell_type": "code",
   "execution_count": 15,
   "metadata": {},
   "outputs": [],
   "source": [
    "import os\n",
    "os.mkdir('Single Directory')"
   ]
  },
  {
   "cell_type": "code",
   "execution_count": 19,
   "metadata": {},
   "outputs": [],
   "source": [
    "import pathlib\n",
    "p=pathlibi.Path('TestFolder')\n",
    "p.mkdir()"
   ]
  },
  {
   "cell_type": "code",
   "execution_count": 20,
   "metadata": {},
   "outputs": [
    {
     "name": "stdout",
     "output_type": "stream",
     "text": [
      "1-10                 file1.txt                         square.c\r\n",
      "1-10.cpp             file2.txt                         student1.c\r\n",
      "1.cpp                git.ipynb                         student2.c\r\n",
      "aastha7.ipynb        \u001b[0m\u001b[01;34mMusic\u001b[0m/                            student.java\r\n",
      "Aastha Shukla.ipynb  n.c                               sum1to10.cpp\r\n",
      "\u001b[01;34manaconda3\u001b[0m/           number.c                          sum.c\r\n",
      "\u001b[01;32ma.out\u001b[0m*               op.c                              \u001b[01;34mTemplates\u001b[0m/\r\n",
      "calculator.c         \u001b[01;34mPictures\u001b[0m/                         \u001b[01;34mTestFolder\u001b[0m/\r\n",
      "circle.c             \u001b[01;34mproblem solving and programming\u001b[0m/  Untitled1.ipynb\r\n",
      "\u001b[01;34mcs8\u001b[0m/                 \u001b[01;34mPublic\u001b[0m/                           Untitled2.ipynb\r\n",
      "\u001b[01;34mcs9@12\u001b[0m/              python02.ipynb                    Untitled3.ipynb\r\n",
      "\u001b[01;34mDesktop\u001b[0m/             python1.ipynb                     Untitled4.ipynb\r\n",
      "\u001b[01;34mDocuments\u001b[0m/           python2.ipynb                     Untitled5.ipynb\r\n",
      "\u001b[01;34mDownloads\u001b[0m/           rec.c                             Untitled6.ipynb\r\n",
      "even.c               shukla7.ipynb                     Untitled.ipynb\r\n",
      "examples.desktop     \u001b[01;34mSingleDirectory\u001b[0m/                  \u001b[01;34mVideos\u001b[0m/\r\n"
     ]
    }
   ],
   "source": [
    "ls"
   ]
  },
  {
   "cell_type": "markdown",
   "metadata": {},
   "source": [
    "## creating multiple directory"
   ]
  },
  {
   "cell_type": "code",
   "execution_count": 21,
   "metadata": {},
   "outputs": [],
   "source": [
    "import os\n",
    "os.makedirs('2019/july/11')"
   ]
  },
  {
   "cell_type": "code",
   "execution_count": 22,
   "metadata": {},
   "outputs": [
    {
     "name": "stdout",
     "output_type": "stream",
     "text": [
      "1-10                 file1.txt                         student1.c\r\n",
      "1-10.cpp             file2.txt                         student2.c\r\n",
      "1.cpp                git.ipynb                         student.java\r\n",
      "\u001b[0m\u001b[01;34m2019\u001b[0m/                \u001b[01;34mMusic\u001b[0m/                            sum1to10.cpp\r\n",
      "aastha7.ipynb        n.c                               sum.c\r\n",
      "Aastha Shukla.ipynb  number.c                          \u001b[01;34mTemplates\u001b[0m/\r\n",
      "\u001b[01;34manaconda3\u001b[0m/           op.c                              \u001b[01;34mTestFolder\u001b[0m/\r\n",
      "\u001b[01;32ma.out\u001b[0m*               \u001b[01;34mPictures\u001b[0m/                         Untitled1.ipynb\r\n",
      "calculator.c         \u001b[01;34mproblem solving and programming\u001b[0m/  Untitled2.ipynb\r\n",
      "circle.c             \u001b[01;34mPublic\u001b[0m/                           Untitled3.ipynb\r\n",
      "\u001b[01;34mcs8\u001b[0m/                 python02.ipynb                    Untitled4.ipynb\r\n",
      "\u001b[01;34mcs9@12\u001b[0m/              python1.ipynb                     Untitled5.ipynb\r\n",
      "\u001b[01;34mDesktop\u001b[0m/             python2.ipynb                     Untitled6.ipynb\r\n",
      "\u001b[01;34mDocuments\u001b[0m/           rec.c                             Untitled.ipynb\r\n",
      "\u001b[01;34mDownloads\u001b[0m/           shukla7.ipynb                     \u001b[01;34mVideos\u001b[0m/\r\n",
      "even.c               \u001b[01;34mSingleDirectory\u001b[0m/\r\n",
      "examples.desktop     square.c\r\n"
     ]
    }
   ],
   "source": [
    "ls"
   ]
  },
  {
   "cell_type": "code",
   "execution_count": 23,
   "metadata": {},
   "outputs": [
    {
     "name": "stdout",
     "output_type": "stream",
     "text": [
      "Untitled.ipynb\n"
     ]
    }
   ],
   "source": [
    "import os\n",
    "dirpath='anaconda3/'\n",
    "for f_name in os.listdir(dirpath):\n",
    "    if f_name.endswith('.ipynb'):\n",
    "        print(f_name)"
   ]
  },
  {
   "cell_type": "code",
   "execution_count": 24,
   "metadata": {},
   "outputs": [],
   "source": [
    "import os\n",
    "dirpath='anaconda3/'\n",
    "for f_name in os.listdir(dirpath):\n",
    "    if f_name.startswith('0'):\n",
    "        print(f_name)"
   ]
  },
  {
   "cell_type": "markdown",
   "metadata": {},
   "source": [
    "## deleting a file"
   ]
  },
  {
   "cell_type": "code",
   "execution_count": 25,
   "metadata": {},
   "outputs": [],
   "source": [
    "import os\n",
    "data_file='file1.txt'\n",
    "os.remove(data_file)"
   ]
  },
  {
   "cell_type": "code",
   "execution_count": 26,
   "metadata": {},
   "outputs": [
    {
     "name": "stdout",
     "output_type": "stream",
     "text": [
      "1-10                 examples.desktop                  square.c\r\n",
      "1-10.cpp             file2.txt                         student1.c\r\n",
      "1.cpp                git.ipynb                         student2.c\r\n",
      "\u001b[0m\u001b[01;34m2019\u001b[0m/                \u001b[01;34mMusic\u001b[0m/                            student.java\r\n",
      "aastha7.ipynb        n.c                               sum1to10.cpp\r\n",
      "Aastha Shukla.ipynb  number.c                          sum.c\r\n",
      "\u001b[01;34manaconda3\u001b[0m/           op.c                              \u001b[01;34mTemplates\u001b[0m/\r\n",
      "\u001b[01;32ma.out\u001b[0m*               \u001b[01;34mPictures\u001b[0m/                         \u001b[01;34mTestFolder\u001b[0m/\r\n",
      "calculator.c         \u001b[01;34mproblem solving and programming\u001b[0m/  Untitled1.ipynb\r\n",
      "circle.c             \u001b[01;34mPublic\u001b[0m/                           Untitled2.ipynb\r\n",
      "\u001b[01;34mcs8\u001b[0m/                 python02.ipynb                    Untitled3.ipynb\r\n",
      "\u001b[01;34mcs9@12\u001b[0m/              python1.ipynb                     Untitled4.ipynb\r\n",
      "\u001b[01;34mDesktop\u001b[0m/             python2.ipynb                     Untitled5.ipynb\r\n",
      "\u001b[01;34mDocuments\u001b[0m/           rec.c                             Untitled6.ipynb\r\n",
      "\u001b[01;34mDownloads\u001b[0m/           shukla7.ipynb                     Untitled.ipynb\r\n",
      "even.c               \u001b[01;34mSingleDirectory\u001b[0m/                  \u001b[01;34mVideos\u001b[0m/\r\n"
     ]
    }
   ],
   "source": [
    "ls"
   ]
  },
  {
   "cell_type": "code",
   "execution_count": null,
   "metadata": {},
   "outputs": [],
   "source": []
  },
  {
   "cell_type": "code",
   "execution_count": 31,
   "metadata": {},
   "outputs": [
    {
     "ename": "FileNotFoundError",
     "evalue": "[Errno 2] No such file or directory: '2019'",
     "output_type": "error",
     "traceback": [
      "\u001b[0;31m---------------------------------------------------------------------------\u001b[0m",
      "\u001b[0;31mFileNotFoundError\u001b[0m                         Traceback (most recent call last)",
      "\u001b[0;32m<ipython-input-31-33da976d6f08>\u001b[0m in \u001b[0;36m<module>\u001b[0;34m\u001b[0m\n\u001b[1;32m      1\u001b[0m \u001b[0;32mimport\u001b[0m \u001b[0mshutil\u001b[0m \u001b[0;31m# delete the tree of structure of folder\u001b[0m\u001b[0;34m\u001b[0m\u001b[0;34m\u001b[0m\u001b[0m\n\u001b[1;32m      2\u001b[0m \u001b[0mdata_dir\u001b[0m \u001b[0;34m=\u001b[0m \u001b[0;34m'2019'\u001b[0m\u001b[0;34m\u001b[0m\u001b[0;34m\u001b[0m\u001b[0m\n\u001b[0;32m----> 3\u001b[0;31m \u001b[0mshutil\u001b[0m\u001b[0;34m.\u001b[0m\u001b[0mrmtree\u001b[0m\u001b[0;34m(\u001b[0m\u001b[0mdata_dir\u001b[0m\u001b[0;34m)\u001b[0m\u001b[0;34m\u001b[0m\u001b[0;34m\u001b[0m\u001b[0m\n\u001b[0m",
      "\u001b[0;32m~/anaconda3/lib/python3.7/shutil.py\u001b[0m in \u001b[0;36mrmtree\u001b[0;34m(path, ignore_errors, onerror)\u001b[0m\n\u001b[1;32m    480\u001b[0m             \u001b[0morig_st\u001b[0m \u001b[0;34m=\u001b[0m \u001b[0mos\u001b[0m\u001b[0;34m.\u001b[0m\u001b[0mlstat\u001b[0m\u001b[0;34m(\u001b[0m\u001b[0mpath\u001b[0m\u001b[0;34m)\u001b[0m\u001b[0;34m\u001b[0m\u001b[0;34m\u001b[0m\u001b[0m\n\u001b[1;32m    481\u001b[0m         \u001b[0;32mexcept\u001b[0m \u001b[0mException\u001b[0m\u001b[0;34m:\u001b[0m\u001b[0;34m\u001b[0m\u001b[0;34m\u001b[0m\u001b[0m\n\u001b[0;32m--> 482\u001b[0;31m             \u001b[0monerror\u001b[0m\u001b[0;34m(\u001b[0m\u001b[0mos\u001b[0m\u001b[0;34m.\u001b[0m\u001b[0mlstat\u001b[0m\u001b[0;34m,\u001b[0m \u001b[0mpath\u001b[0m\u001b[0;34m,\u001b[0m \u001b[0msys\u001b[0m\u001b[0;34m.\u001b[0m\u001b[0mexc_info\u001b[0m\u001b[0;34m(\u001b[0m\u001b[0;34m)\u001b[0m\u001b[0;34m)\u001b[0m\u001b[0;34m\u001b[0m\u001b[0;34m\u001b[0m\u001b[0m\n\u001b[0m\u001b[1;32m    483\u001b[0m             \u001b[0;32mreturn\u001b[0m\u001b[0;34m\u001b[0m\u001b[0;34m\u001b[0m\u001b[0m\n\u001b[1;32m    484\u001b[0m         \u001b[0;32mtry\u001b[0m\u001b[0;34m:\u001b[0m\u001b[0;34m\u001b[0m\u001b[0;34m\u001b[0m\u001b[0m\n",
      "\u001b[0;32m~/anaconda3/lib/python3.7/shutil.py\u001b[0m in \u001b[0;36mrmtree\u001b[0;34m(path, ignore_errors, onerror)\u001b[0m\n\u001b[1;32m    478\u001b[0m         \u001b[0;31m# lstat()/open()/fstat() trick.\u001b[0m\u001b[0;34m\u001b[0m\u001b[0;34m\u001b[0m\u001b[0;34m\u001b[0m\u001b[0m\n\u001b[1;32m    479\u001b[0m         \u001b[0;32mtry\u001b[0m\u001b[0;34m:\u001b[0m\u001b[0;34m\u001b[0m\u001b[0;34m\u001b[0m\u001b[0m\n\u001b[0;32m--> 480\u001b[0;31m             \u001b[0morig_st\u001b[0m \u001b[0;34m=\u001b[0m \u001b[0mos\u001b[0m\u001b[0;34m.\u001b[0m\u001b[0mlstat\u001b[0m\u001b[0;34m(\u001b[0m\u001b[0mpath\u001b[0m\u001b[0;34m)\u001b[0m\u001b[0;34m\u001b[0m\u001b[0;34m\u001b[0m\u001b[0m\n\u001b[0m\u001b[1;32m    481\u001b[0m         \u001b[0;32mexcept\u001b[0m \u001b[0mException\u001b[0m\u001b[0;34m:\u001b[0m\u001b[0;34m\u001b[0m\u001b[0;34m\u001b[0m\u001b[0m\n\u001b[1;32m    482\u001b[0m             \u001b[0monerror\u001b[0m\u001b[0;34m(\u001b[0m\u001b[0mos\u001b[0m\u001b[0;34m.\u001b[0m\u001b[0mlstat\u001b[0m\u001b[0;34m,\u001b[0m \u001b[0mpath\u001b[0m\u001b[0;34m,\u001b[0m \u001b[0msys\u001b[0m\u001b[0;34m.\u001b[0m\u001b[0mexc_info\u001b[0m\u001b[0;34m(\u001b[0m\u001b[0;34m)\u001b[0m\u001b[0;34m)\u001b[0m\u001b[0;34m\u001b[0m\u001b[0;34m\u001b[0m\u001b[0m\n",
      "\u001b[0;31mFileNotFoundError\u001b[0m: [Errno 2] No such file or directory: '2019'"
     ]
    }
   ],
   "source": [
    "import shutil # delete the tree of structure of folder\n",
    "data_dir = '2019'\n",
    "shutil.rmtree(data_dir)"
   ]
  },
  {
   "cell_type": "code",
   "execution_count": null,
   "metadata": {},
   "outputs": [],
   "source": []
  }
 ],
 "metadata": {
  "kernelspec": {
   "display_name": "Python 3",
   "language": "python",
   "name": "python3"
  },
  "language_info": {
   "codemirror_mode": {
    "name": "ipython",
    "version": 3
   },
   "file_extension": ".py",
   "mimetype": "text/x-python",
   "name": "python",
   "nbconvert_exporter": "python",
   "pygments_lexer": "ipython3",
   "version": "3.7.3"
  }
 },
 "nbformat": 4,
 "nbformat_minor": 2
}
