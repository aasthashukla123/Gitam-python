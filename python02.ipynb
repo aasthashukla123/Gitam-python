{
 "cells": [
  {
   "cell_type": "markdown",
   "metadata": {},
   "source": [
    "## string formatting\n",
    "- classical version\n",
    "- current version\n"
   ]
  },
  {
   "cell_type": "markdown",
   "metadata": {},
   "source": [
    "## standard libraries\n",
    "- File I/O\n",
    "- regular expression\n",
    "- datetime\n",
    "- math(numerical and mathematical)"
   ]
  },
  {
   "cell_type": "markdown",
   "metadata": {},
   "source": [
    "## File handling in python\n",
    "- file-document containing information resides on the permanent storage\n",
    "- different types of files:-tx,dxt,pdf,csv and ect....\n",
    "- input-keyboard\n",
    "- output-file\n",
    "## modes of the file I/O\n",
    "- 'W'-- THIS MODE IS USED TO FILE WRITING\n",
    "  -- if the file is not present it creates the file andwrite some data to it"
   ]
  },
  {
   "cell_type": "code",
   "execution_count": 7,
   "metadata": {},
   "outputs": [
    {
     "name": "stdout",
     "output_type": "stream",
     "text": [
      "file is created and data has been written\n"
     ]
    }
   ],
   "source": [
    "# function to create a file and write to the file\n",
    "def createfile(filename):\n",
    "    f=open(filename,'w')\n",
    "    for i in range(10):\n",
    "        f.write('this is %d line\\n'%i)\n",
    "    print(\"file is created and data has been written\")\n",
    "    return\n",
    "createfile('file1.txt')\n",
    "        "
   ]
  },
  {
   "cell_type": "code",
   "execution_count": 5,
   "metadata": {},
   "outputs": [
    {
     "name": "stdout",
     "output_type": "stream",
     "text": [
      "this is 0 line\r\n",
      "this is 1 line\r\n",
      "this is 2 line\r\n",
      "this is 3 line\r\n",
      "this is 4 line\r\n",
      "this is 5 line\r\n",
      "this is 6 line\r\n",
      "this is 7 line\r\n",
      "this is 8 line\r\n",
      "this is 9 line\r\n"
     ]
    }
   ],
   "source": [
    "cat file1.txt"
   ]
  },
  {
   "cell_type": "code",
   "execution_count": null,
   "metadata": {},
   "outputs": [],
   "source": []
  },
  {
   "cell_type": "code",
   "execution_count": 6,
   "metadata": {},
   "outputs": [
    {
     "name": "stdout",
     "output_type": "stream",
     "text": [
      "1-10                 examples.desktop                  student1.c\r\n",
      "1-10.cpp             file1.txt                         student2.c\r\n",
      "1.cpp                \u001b[0m\u001b[01;34mMusic\u001b[0m/                            student.java\r\n",
      "aastha7.ipynb        n.c                               sum1to10.cpp\r\n",
      "Aastha Shukla.ipynb  number.c                          sum.c\r\n",
      "\u001b[01;34manaconda3\u001b[0m/           op.c                              \u001b[01;34mTemplates\u001b[0m/\r\n",
      "\u001b[01;32ma.out\u001b[0m*               \u001b[01;34mPictures\u001b[0m/                         Untitled1.ipynb\r\n",
      "calculator.c         \u001b[01;34mproblem solving and programming\u001b[0m/  Untitled2.ipynb\r\n",
      "circle.c             \u001b[01;34mPublic\u001b[0m/                           Untitled3.ipynb\r\n",
      "\u001b[01;34mcs8\u001b[0m/                 python02.ipynb                    Untitled4.ipynb\r\n",
      "\u001b[01;34mcs9@12\u001b[0m/              python1.ipynb                     Untitled5.ipynb\r\n",
      "\u001b[01;34mDesktop\u001b[0m/             python2.ipynb                     Untitled.ipynb\r\n",
      "\u001b[01;34mDocuments\u001b[0m/           rec.c                             \u001b[01;34mVideos\u001b[0m/\r\n",
      "\u001b[01;34mDownloads\u001b[0m/           shukla7.ipynb\r\n",
      "even.c               square.c\r\n"
     ]
    }
   ],
   "source": [
    "ls"
   ]
  },
  {
   "cell_type": "code",
   "execution_count": 9,
   "metadata": {},
   "outputs": [
    {
     "name": "stdout",
     "output_type": "stream",
     "text": [
      "file is created and data has been written\n"
     ]
    }
   ],
   "source": [
    "def createfile(filename):\n",
    "    f=open((filename,'w')\n",
    "    f.write('Testing--\\n')\n",
    "    print(\"file is created and data has been written\")\n",
    "    return\n",
    "createfile('file1.txt')"
   ]
  },
  {
   "cell_type": "code",
   "execution_count": 10,
   "metadata": {},
   "outputs": [
    {
     "name": "stdout",
     "output_type": "stream",
     "text": [
      "file is created and data has been written successfully\n"
     ]
    }
   ],
   "source": [
    "def appenddata(filename):\n",
    "    f=open(filename,'a')\n",
    "    for i in range(10):\n",
    "        f.write(\"This is % d line\\n\" % i)\n",
    "    print(\"file is created and data has been written successfully\")\n",
    "    return\n",
    "appenddata('file2.txt')"
   ]
  },
  {
   "cell_type": "code",
   "execution_count": 12,
   "metadata": {},
   "outputs": [
    {
     "name": "stdout",
     "output_type": "stream",
     "text": [
      "This is  0 line\r\n",
      "This is  1 line\r\n",
      "This is  2 line\r\n",
      "This is  3 line\r\n",
      "This is  4 line\r\n",
      "This is  5 line\r\n",
      "This is  6 line\r\n",
      "This is  7 line\r\n",
      "This is  8 line\r\n",
      "This is  9 line\r\n"
     ]
    }
   ],
   "source": [
    "cat file2.txt"
   ]
  },
  {
   "cell_type": "code",
   "execution_count": 13,
   "metadata": {},
   "outputs": [
    {
     "name": "stdout",
     "output_type": "stream",
     "text": [
      "file is created and data has been written successfully\n"
     ]
    }
   ],
   "source": [
    "def appenddata(filename):\n",
    "    f=open(filename,'a')\n",
    "    f.write(\"New line 1\\n\")\n",
    "    f.write(\"New line 2\\n\")\n",
    "    print(\"file is created and data has been written successfully\")\n",
    "    return\n",
    "appenddata('file2.txt')"
   ]
  },
  {
   "cell_type": "code",
   "execution_count": 15,
   "metadata": {},
   "outputs": [
    {
     "name": "stdout",
     "output_type": "stream",
     "text": [
      "This is  0 line\n",
      "This is  1 line\n",
      "This is  2 line\n",
      "This is  3 line\n",
      "This is  4 line\n",
      "This is  5 line\n",
      "This is  6 line\n",
      "This is  7 line\n",
      "This is  8 line\n",
      "This is  9 line\n",
      "New line 1\n",
      "New line 2\n",
      "\n"
     ]
    }
   ],
   "source": [
    "# function to read the data of the file\n",
    "def readfiledata(filename):\n",
    "    f=open(filename,'r')\n",
    "    if f.mode =='r':\n",
    "        x = f.read()\n",
    "        print (x)\n",
    "    f.close()\n",
    "    return\n",
    "readfiledata('file2.txt')"
   ]
  },
  {
   "cell_type": "code",
   "execution_count": 3,
   "metadata": {},
   "outputs": [
    {
     "name": "stdout",
     "output_type": "stream",
     "text": [
      "enter the file namefile2.txt\n",
      "enter the mode of the filer\n",
      "This is  0 line\n",
      "This is  1 line\n",
      "This is  2 line\n",
      "This is  3 line\n",
      "This is  4 line\n",
      "This is  5 line\n",
      "This is  6 line\n",
      "This is  7 line\n",
      "This is  8 line\n",
      "This is  9 line\n",
      "New line 1\n",
      "New line 2\n",
      "\n"
     ]
    }
   ],
   "source": [
    "def fileOperations(filename,mode):\n",
    "    with open(filename,mode) as f:\n",
    "        if f.mode =='r':\n",
    "            data = f.read()\n",
    "            print(data)\n",
    "        elif f.mode == 'a':\n",
    "            f.write('data to the file')\n",
    "            print('the data successfully written')\n",
    "    f.close()\n",
    "    return\n",
    "filename=input('enter the file name')\n",
    "mode = input('enter the mode of the file')\n",
    "fileOperations(filename,mode)"
   ]
  },
  {
   "cell_type": "code",
   "execution_count": null,
   "metadata": {},
   "outputs": [],
   "source": []
  },
  {
   "cell_type": "code",
   "execution_count": null,
   "metadata": {},
   "outputs": [],
   "source": []
  },
  {
   "cell_type": "code",
   "execution_count": null,
   "metadata": {},
   "outputs": [],
   "source": []
  },
  {
   "cell_type": "code",
   "execution_count": 5,
   "metadata": {},
   "outputs": [
    {
     "name": "stdout",
     "output_type": "stream",
     "text": [
      "enter the file namefile2.txt\n",
      "enter the word:is\n"
     ]
    },
    {
     "data": {
      "text/plain": [
       "10"
      ]
     },
     "execution_count": 5,
     "metadata": {},
     "output_type": "execute_result"
    }
   ],
   "source": [
    "def wordcount(filename,word):\n",
    "    with open(filename,'r') as f:\n",
    "        if f.mode =='r':\n",
    "            x = f.read()\n",
    "            li = x.split()\n",
    "    cnt=li.count(word)\n",
    "    return cnt\n",
    "filename=input('enter the file name')\n",
    "word = input('enter the word:') # which word count you want\n",
    "wordcount(filename,word)"
   ]
  },
  {
   "cell_type": "code",
   "execution_count": null,
   "metadata": {},
   "outputs": [],
   "source": []
  },
  {
   "cell_type": "code",
   "execution_count": null,
   "metadata": {},
   "outputs": [],
   "source": [
    "# character count from the given file"
   ]
  }
 ],
 "metadata": {
  "kernelspec": {
   "display_name": "Python 3",
   "language": "python",
   "name": "python3"
  },
  "language_info": {
   "codemirror_mode": {
    "name": "ipython",
    "version": 3
   },
   "file_extension": ".py",
   "mimetype": "text/x-python",
   "name": "python",
   "nbconvert_exporter": "python",
   "pygments_lexer": "ipython3",
   "version": "3.7.3"
  }
 },
 "nbformat": 4,
 "nbformat_minor": 2
}
